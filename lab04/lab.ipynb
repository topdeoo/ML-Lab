{
 "cells": [
  {
   "cell_type": "markdown",
   "metadata": {},
   "source": [
    "# Lab04 逻辑回归\n",
    "\n",
    "导入需要用到的包"
   ]
  },
  {
   "cell_type": "code",
   "execution_count": null,
   "metadata": {},
   "outputs": [],
   "source": [
    "import pandas as pd\n",
    "import numpy as np\n",
    "import matplotlib.pyplot as plt\n",
    "import seaborn as sns\n",
    "%matplotlib inline\n"
   ]
  },
  {
   "cell_type": "markdown",
   "metadata": {},
   "source": [
    "读入数据后，画出一个缩略图"
   ]
  },
  {
   "cell_type": "code",
   "execution_count": null,
   "metadata": {},
   "outputs": [],
   "source": [
    "df = pd.read_csv('Data.csv')\n",
    "sns.relplot(x='sepal length (cm)', y='sepal width (cm)', hue='class', data=df)"
   ]
  },
  {
   "cell_type": "markdown",
   "metadata": {},
   "source": [
    "## 数据预处理与数据集划分\n",
    "\n",
    "由于这里做的逻辑回归是一个二分类模型，所以我们把 0 作为一类，1 与 2作为另一类。然后我们按照3：7的比例划分数据集"
   ]
  },
  {
   "cell_type": "code",
   "execution_count": null,
   "metadata": {},
   "outputs": [],
   "source": [
    "from sklearn.model_selection import train_test_split\n",
    "\n",
    "X = df.drop(['class'], axis=1).to_numpy()\n",
    "Y = df['class'].to_numpy()\n",
    "\n",
    "for i in range(Y.shape[0]):\n",
    "    if Y[i] != 0:\n",
    "        Y[i] = 1\n",
    "\n",
    "train_X, test_X, train_Y, test_Y = train_test_split(X, Y, test_size=0.3, shuffle=True)"
   ]
  },
  {
   "cell_type": "markdown",
   "metadata": {},
   "source": [
    "## 实验任务"
   ]
  },
  {
   "cell_type": "code",
   "execution_count": null,
   "metadata": {},
   "outputs": [],
   "source": [
    "\"\"\"\n",
    "Start your lab here\n",
    "\"\"\""
   ]
  },
  {
   "cell_type": "markdown",
   "metadata": {},
   "source": [
    "## 测试结果\n",
    "\n",
    "首先， 我们测试 `acc` 在训练集与测试集的结果，然后测试 `f1` 在训练集与测试集上的结果"
   ]
  },
  {
   "cell_type": "code",
   "execution_count": null,
   "metadata": {},
   "outputs": [],
   "source": [
    "from sklearn.metrics import accuracy_score, f1_score\n",
    "\n",
    "lr = LogisticsRegression(train_X)\n",
    "lr.fit(train_X, train_Y)\n",
    "print(\"Training accuracy score\")\n",
    "print(accuracy_score(train_Y, lr.predict(train_X)))\n",
    "print(\"Test accuracy score\")\n",
    "print(accuracy_score(test_Y, lr.predict(test_X)))\n",
    "\n",
    "print(\"Training F1 score\")\n",
    "print(f1_score(train_Y, lr.predict(train_X)))\n",
    "print(\"Test F1 score\")\n",
    "print(f1_score(test_Y, lr.predict(test_X)))"
   ]
  },
  {
   "cell_type": "markdown",
   "metadata": {},
   "source": [
    "随后，我们使用`sklearn`中的模型来对比自己模型的效果"
   ]
  },
  {
   "cell_type": "code",
   "execution_count": null,
   "metadata": {},
   "outputs": [],
   "source": [
    "from sklearn.linear_model import LogisticRegression\n",
    "\n",
    "model = LogisticRegression()\n",
    "model.fit(train_X, train_Y)\n",
    "print(\"sklearn Test accuracy score\")\n",
    "print(accuracy_score(test_Y, model.predict(test_X)))\n"
   ]
  }
 ],
 "metadata": {
  "kernelspec": {
   "display_name": "Python 3.8.8 ('base')",
   "language": "python",
   "name": "python3"
  },
  "language_info": {
   "codemirror_mode": {
    "name": "ipython",
    "version": 3
   },
   "file_extension": ".py",
   "mimetype": "text/x-python",
   "name": "python",
   "nbconvert_exporter": "python",
   "pygments_lexer": "ipython3",
   "version": "3.8.8"
  },
  "orig_nbformat": 4,
  "vscode": {
   "interpreter": {
    "hash": "7679c2132d3f6ce38c9df14d554b39c06862b36a4e6689c81f9ae15bd0911d7d"
   }
  }
 },
 "nbformat": 4,
 "nbformat_minor": 2
}
