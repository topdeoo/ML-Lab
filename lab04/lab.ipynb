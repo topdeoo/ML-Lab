{
 "cells": [
  {
   "cell_type": "markdown",
   "metadata": {},
   "source": [
    "# Lab04 逻辑回归\n",
    "\n",
    "导入需要用到的包"
   ]
  },
  {
   "cell_type": "code",
   "execution_count": 1,
   "metadata": {},
   "outputs": [],
   "source": [
    "import pandas as pd\n",
    "import numpy as np\n",
    "import matplotlib.pyplot as plt\n",
    "import seaborn as sns\n",
    "%matplotlib inline\n"
   ]
  },
  {
   "cell_type": "markdown",
   "metadata": {},
   "source": [
    "读入数据后，画出一个缩略图"
   ]
  },
  {
   "cell_type": "code",
   "execution_count": 2,
   "metadata": {},
   "outputs": [
    {
     "data": {
      "text/plain": [
       "<seaborn.axisgrid.FacetGrid at 0x1dadd4deeb0>"
      ]
     },
     "execution_count": 2,
     "metadata": {},
     "output_type": "execute_result"
    },
    {
     "data": {
      "image/png": "[encoded data removed]",
      "text/plain": [
       "<Figure size 402.375x360 with 1 Axes>"
      ]
     },
     "metadata": {
      "needs_background": "light"
     },
     "output_type": "display_data"
    }
   ],
   "source": [
    "df = pd.read_csv('Data.csv')\n",
    "sns.relplot(x='sepal length (cm)', y='sepal width (cm)', hue='class', data=df)"
   ]
  },
  {
   "cell_type": "markdown",
   "metadata": {},
   "source": [
    "## 数据预处理与数据集划分\n",
    "\n",
    "由于这里做的逻辑回归是一个二分类模型，所以我们把 0 作为一类，1 与 2作为另一类。然后我们按照3：7的比例划分数据集"
   ]
  },
  {
   "cell_type": "code",
   "execution_count": 3,
   "metadata": {},
   "outputs": [],
   "source": [
    "from sklearn.model_selection import train_test_split\n",
    "\n",
    "X = df.drop(['class'], axis=1).to_numpy()\n",
    "Y = df['class'].to_numpy()\n",
    "\n",
    "for i in range(Y.shape[0]):\n",
    "    if Y[i] != 0:\n",
    "        Y[i] = 1\n",
    "\n",
    "train_X, test_X, train_Y, test_Y = train_test_split(X, Y, test_size=0.3, shuffle=True)"
   ]
  },
  {
   "cell_type": "markdown",
   "metadata": {},
   "source": [
    "## 实验任务"
   ]
  },
  {
   "cell_type": "code",
   "execution_count": 4,
   "metadata": {},
   "outputs": [],
   "source": [
    "def sigmoid(x):\n",
    "    return 1 / (np.exp(-x) + 1)\n",
    "\n",
    "\n",
    "class LogisticsRegression(object):\n",
    "    def __init__(self, X, _alpha=0.01, _epoch=10000, eps=1e-8):\n",
    "        self.w_ = np.zeros(X.shape[1])\n",
    "        self.cost_ = []\n",
    "        self.alpha = _alpha\n",
    "        self.epoch = _epoch\n",
    "        self.eps = eps\n",
    "\n",
    "    def cross_entropy(self, Y, X):\n",
    "        m = len(Y)\n",
    "        error = 0.0\n",
    "        for i in range(X.shape[0]):\n",
    "            error += Y[i] * np.log(self.eps + sigmoid(np.dot(self.w_, X[i]))) \\\n",
    "                + (1 - Y[i]) * np.log(self.eps + 1 - sigmoid(np.dot(self.w_, X[i])))\n",
    "        return -error / m\n",
    "\n",
    "    def fit(self, X, Y):\n",
    "        for i in range(self.epoch):\n",
    "            grad = np.zeros(X.shape[1])\n",
    "            for _ in range(X.shape[0]):\n",
    "                grad += (sigmoid(np.dot(self.w_, X[_])) - Y[_]) * X[_]\n",
    "            self.w_ -= self.alpha * grad\n",
    "            self.cost_.append(self.cross_entropy(Y, X))\n",
    "\n",
    "    def predict(self, X):\n",
    "        y_predict = np.zeros(len(X))\n",
    "        for i in range(len(X)):\n",
    "            y_predict[i] = 1 if np.dot(self.w_, X[i]) > 0 else 0\n",
    "        return y_predict\n"
   ]
  },
  {
   "cell_type": "markdown",
   "metadata": {},
   "source": [
    "## 测试结果\n",
    "\n",
    "首先， 我们测试 `acc` 在训练集与测试集的结果，然后测试 `f1` 在训练集与测试集上的结果"
   ]
  },
  {
   "cell_type": "code",
   "execution_count": 5,
   "metadata": {},
   "outputs": [
    {
     "name": "stderr",
     "output_type": "stream",
     "text": [
      "<ipython-input-4-525a4b0e22a3>:2: RuntimeWarning: overflow encountered in exp\n",
      "  return 1 / (np.exp(-x) + 1)\n"
     ]
    },
    {
     "name": "stdout",
     "output_type": "stream",
     "text": [
      "Training accuracy score\n",
      "1.0\n",
      "Test accuracy score\n",
      "1.0\n",
      "Training F1 score\n",
      "1.0\n",
      "Test F1 score\n",
      "1.0\n"
     ]
    }
   ],
   "source": [
    "from sklearn.metrics import accuracy_score, f1_score\n",
    "\n",
    "lr = LogisticsRegression(train_X)\n",
    "lr.fit(train_X, train_Y)\n",
    "print(\"Training accuracy score\")\n",
    "print(accuracy_score(train_Y, lr.predict(train_X)))\n",
    "print(\"Test accuracy score\")\n",
    "print(accuracy_score(test_Y, lr.predict(test_X)))\n",
    "\n",
    "print(\"Training F1 score\")\n",
    "print(f1_score(train_Y, lr.predict(train_X)))\n",
    "print(\"Test F1 score\")\n",
    "print(f1_score(test_Y, lr.predict(test_X)))"
   ]
  },
  {
   "cell_type": "markdown",
   "metadata": {},
   "source": [
    "随后，我们使用`sklearn`中的模型来对比自己模型的效果"
   ]
  },
  {
   "cell_type": "code",
   "execution_count": 6,
   "metadata": {},
   "outputs": [
    {
     "name": "stdout",
     "output_type": "stream",
     "text": [
      "sklearn Test accuracy score\n",
      "1.0\n"
     ]
    }
   ],
   "source": [
    "from sklearn.linear_model import LogisticRegression\n",
    "\n",
    "model = LogisticRegression()\n",
    "model.fit(train_X, train_Y)\n",
    "print(\"sklearn Test accuracy score\")\n",
    "print(accuracy_score(test_Y, model.predict(test_X)))\n"
   ]
  },
  {
   "cell_type": "markdown",
   "metadata": {},
   "source": [
    "最后，我们画出模型训练时的 `loss` 函数图像（也就是交叉熵函数），为什么选择交叉熵函数呢？我们可以使用 `MSE` 作为损失函数训练一次后，画出 `MSE` 的图像与这个进行对比\n",
    "\n",
    "不使用 `MSE` 的主要原因是在分类问题中，使用`sigmoid/softmx`得到概率，配合MSE损失函数时，采用梯度下降法进行学习时，会出现模型一开始训练时，学习速率非常慢的情况"
   ]
  },
  {
   "cell_type": "code",
   "execution_count": 7,
   "metadata": {},
   "outputs": [
    {
     "data": {
      "image/png": "[encoded data removed]",
      "text/plain": [
       "<Figure size 432x288 with 1 Axes>"
      ]
     },
     "metadata": {
      "needs_background": "light"
     },
     "output_type": "display_data"
    }
   ],
   "source": [
    "plt.plot(range(lr.epoch), lr.cost_)\n",
    "plt.show()\n"
   ]
  }
 ],
 "metadata": {
  "kernelspec": {
   "display_name": "Python 3.8.8 ('base')",
   "language": "python",
   "name": "python3"
  },
  "language_info": {
   "codemirror_mode": {
    "name": "ipython",
    "version": 3
   },
   "file_extension": ".py",
   "mimetype": "text/x-python",
   "name": "python",
   "nbconvert_exporter": "python",
   "pygments_lexer": "ipython3",
   "version": "3.8.8"
  },
  "orig_nbformat": 4,
  "vscode": {
   "interpreter": {
    "hash": "7679c2132d3f6ce38c9df14d554b39c06862b36a4e6689c81f9ae15bd0911d7d"
   }
  }
 },
 "nbformat": 4,
 "nbformat_minor": 2
}
