{
 "cells": [
  {
   "cell_type": "markdown",
   "metadata": {},
   "source": [
    "# Lab05 KNN分类与回归\n",
    "\n",
    "导入需要用到的包"
   ]
  },
  {
   "cell_type": "code",
   "execution_count": null,
   "metadata": {},
   "outputs": [],
   "source": [
    "import pandas as pd\n",
    "import numpy as np\n",
    "import matplotlib.pyplot as plt\n",
    "import seaborn as sns\n",
    "%matplotlib inline\n"
   ]
  },
  {
   "cell_type": "markdown",
   "metadata": {},
   "source": [
    "读入数据，并进行一些简单的处理"
   ]
  },
  {
   "cell_type": "code",
   "execution_count": null,
   "metadata": {},
   "outputs": [],
   "source": [
    "df1 = pd.read_csv('Boston.csv')\n",
    "df2 = pd.read_csv('Iris.csv')\n",
    "\n",
    "df1, df2 = df1.drop(['ID'], axis=1), df2.drop(['id'], axis=1)"
   ]
  },
  {
   "cell_type": "markdown",
   "metadata": {},
   "source": [
    "对数据集进行划分，划分为七比三比例"
   ]
  },
  {
   "cell_type": "code",
   "execution_count": null,
   "metadata": {},
   "outputs": [],
   "source": [
    "from sklearn.model_selection import train_test_split\n",
    "\n",
    "X1, Y1 = df1.drop(['MEDV'], axis=1).to_numpy(), df1['MEDV'].to_numpy()\n",
    "X2, Y2 = df2.drop(['class'], axis=1).to_numpy(), df2['class'].to_numpy()\n",
    "\n",
    "train_X_r, test_X_r, train_Y_r, test_Y_r = train_test_split(X1, Y1, shuffle=True, test_size=0.3)\n",
    "train_X_c, test_X_c, train_Y_c, test_Y_c = train_test_split(X2, Y2, shuffle=True, test_size=0.3)\n"
   ]
  },
  {
   "cell_type": "markdown",
   "metadata": {},
   "source": [
    "## 实验任务"
   ]
  },
  {
   "cell_type": "code",
   "execution_count": null,
   "metadata": {},
   "outputs": [],
   "source": [
    "\"\"\"\n",
    "Start your lab here\n",
    "\"\"\""
   ]
  },
  {
   "cell_type": "markdown",
   "metadata": {},
   "source": [
    "## 测试结果\n",
    "\n",
    "我们使用 `acc` 对分类结果进行测试，使用 `mse` 对回归结果进行测试"
   ]
  },
  {
   "cell_type": "code",
   "execution_count": null,
   "metadata": {},
   "outputs": [],
   "source": [
    "from sklearn.metrics import accuracy_score\n",
    "\n",
    "knnc = KNNClassifier()\n",
    "knnc.fit(train_X_c, train_Y_c)\n",
    "print(\"acc = %.2f\" % (100 * accuracy_score(test_Y_c, knnc.predict(test_X_c))))"
   ]
  },
  {
   "cell_type": "code",
   "execution_count": null,
   "metadata": {},
   "outputs": [],
   "source": [
    "from sklearn.metrics import mean_squared_error\n",
    "\n",
    "knnr = KNNRegression()\n",
    "knnr.fit(train_X_r, train_Y_r)\n",
    "print(\"MSE = %.2f\" % (mean_squared_error(test_Y_r, knnr.predict(test_X_r))))"
   ]
  }
 ],
 "metadata": {
  "kernelspec": {
   "display_name": "Python 3.8.8 ('base')",
   "language": "python",
   "name": "python3"
  },
  "language_info": {
   "codemirror_mode": {
    "name": "ipython",
    "version": 3
   },
   "file_extension": ".py",
   "mimetype": "text/x-python",
   "name": "python",
   "nbconvert_exporter": "python",
   "pygments_lexer": "ipython3",
   "version": "3.8.8"
  },
  "orig_nbformat": 4,
  "vscode": {
   "interpreter": {
    "hash": "7679c2132d3f6ce38c9df14d554b39c06862b36a4e6689c81f9ae15bd0911d7d"
   }
  }
 },
 "nbformat": 4,
 "nbformat_minor": 2
}
