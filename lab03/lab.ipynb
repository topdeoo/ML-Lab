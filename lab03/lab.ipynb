{
 "cells": [
  {
   "cell_type": "markdown",
   "metadata": {},
   "source": [
    "# Lab03 决策树\n",
    "\n",
    "实现 `ID3` 算法与 `CART` 算法的重点：信息增益的计算与基尼系数的计算"
   ]
  },
  {
   "cell_type": "code",
   "execution_count": 1,
   "metadata": {},
   "outputs": [],
   "source": [
    "import pandas as pd\n",
    "import numpy as np\n",
    "import matplotlib.pyplot as plt\n",
    "import seaborn as sns\n",
    "%matplotlib inline"
   ]
  },
  {
   "cell_type": "markdown",
   "metadata": {},
   "source": [
    "## 数据处理"
   ]
  },
  {
   "cell_type": "code",
   "execution_count": 2,
   "metadata": {},
   "outputs": [
    {
     "name": "stdout",
     "output_type": "stream",
     "text": [
      "[['年龄' '有工作' '有自己的房子' '信贷情况' '贷款申请']\n",
      " ['0' '0' '0' '0' '0']\n",
      " ['0' '0' '0' '1' '0']\n",
      " ['0' '1' '0' '1' '1']\n",
      " ['0' '1' '1' '0' '1']\n",
      " ['0' '0' '0' '0' '0']\n",
      " ['1' '0' '0' '0' '0']\n",
      " ['1' '0' '0' '1' '0']\n",
      " ['1' '1' '1' '1' '1']\n",
      " ['1' '0' '1' '2' '1']\n",
      " ['1' '0' '1' '2' '1']\n",
      " ['2' '0' '1' '2' '1']\n",
      " ['2' '0' '1' '1' '1']\n",
      " ['2' '1' '0' '1' '1']\n",
      " ['2' '1' '0' '2' '1']\n",
      " ['2' '0' '0' '0' '0']]\n"
     ]
    }
   ],
   "source": [
    "df = pd.read_csv('Data.csv')\n",
    "df = df.drop(['ID'], axis=1)\n",
    "data = df.to_numpy(dtype='<U20')\n",
    "head = np.array([['年龄', '有工作', '有自己的房子', '信贷情况', '贷款申请']], dtype='<U20')\n",
    "data = np.r_[head, data]\n",
    "print(data)"
   ]
  },
  {
   "cell_type": "markdown",
   "metadata": {},
   "source": [
    "## 实验任务\n",
    "\n",
    "实现要求的两个函数并测试（只需要测试第一个选择的特征是否正确，并输出其信息增益/基尼系数即可）"
   ]
  },
  {
   "cell_type": "code",
   "execution_count": null,
   "metadata": {},
   "outputs": [],
   "source": [
    "\"\"\"\n",
    "Start your lab here\n",
    "\"\"\""
   ]
  }
 ],
 "metadata": {
  "kernelspec": {
   "display_name": "Python 3.8.8 ('base')",
   "language": "python",
   "name": "python3"
  },
  "language_info": {
   "codemirror_mode": {
    "name": "ipython",
    "version": 3
   },
   "file_extension": ".py",
   "mimetype": "text/x-python",
   "name": "python",
   "nbconvert_exporter": "python",
   "pygments_lexer": "ipython3",
   "version": "3.8.8"
  },
  "orig_nbformat": 4,
  "vscode": {
   "interpreter": {
    "hash": "7679c2132d3f6ce38c9df14d554b39c06862b36a4e6689c81f9ae15bd0911d7d"
   }
  }
 },
 "nbformat": 4,
 "nbformat_minor": 2
}
