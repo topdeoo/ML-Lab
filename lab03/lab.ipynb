{
 "cells": [
  {
   "cell_type": "markdown",
   "metadata": {},
   "source": [
    "# Lab03 决策树\n",
    "\n",
    "实现 `ID3` 算法与 `CART` 算法的重点：信息增益的计算与基尼系数的计算"
   ]
  },
  {
   "cell_type": "code",
   "execution_count": 1,
   "metadata": {},
   "outputs": [],
   "source": [
    "import pandas as pd\n",
    "import numpy as np\n",
    "import matplotlib.pyplot as plt\n",
    "import seaborn as sns\n",
    "%matplotlib inline"
   ]
  },
  {
   "cell_type": "markdown",
   "metadata": {},
   "source": [
    "## 数据处理"
   ]
  },
  {
   "cell_type": "code",
   "execution_count": 2,
   "metadata": {},
   "outputs": [],
   "source": [
    "df = pd.read_csv('Data.csv')\n",
    "data = df.drop(['ID'], axis=1)\n"
   ]
  },
  {
   "cell_type": "markdown",
   "metadata": {},
   "source": [
    "## 实验任务\n",
    "\n",
    "实现要求的两个函数并测试（只需要测试第一个选择的特征是否正确，并输出其信息增益/基尼系数即可）"
   ]
  },
  {
   "cell_type": "code",
   "execution_count": 3,
   "metadata": {},
   "outputs": [],
   "source": [
    "def calc_ent(data):\n",
    "    pk = pd.value_counts(data) / data.shape[0]\n",
    "    return np.sum(np.log2(pk + 1e-8) * pk * -1)\n",
    "\n",
    "def ID3fit(dataset):\n",
    "    max_gain = -1\n",
    "    max_gain_attr = None\n",
    "    for i in dataset.columns:\n",
    "        if i != '贷款申请':\n",
    "            e = dataset.groupby('贷款申请').apply(lambda x: calc_ent(x[i]))\n",
    "            p = pd.value_counts(dataset['贷款申请']) / dataset['贷款申请'].shape[0]\n",
    "            t = np.sum(e * p)\n",
    "            gain = calc_ent(dataset[i]) - t\n",
    "            if max_gain < gain:\n",
    "                max_gain = gain\n",
    "                max_gain_attr = i\n",
    "    return {max_gain_attr: max_gain}\n"
   ]
  },
  {
   "cell_type": "markdown",
   "metadata": {},
   "source": [
    "## 测试结果"
   ]
  },
  {
   "cell_type": "code",
   "execution_count": 4,
   "metadata": {},
   "outputs": [
    {
     "name": "stdout",
     "output_type": "stream",
     "text": [
      "{'有自己的房子': 0.4199730882511947}\n"
     ]
    }
   ],
   "source": [
    "print(ID3fit(data))"
   ]
  }
 ],
 "metadata": {
  "kernelspec": {
   "display_name": "Python 3.8.8 ('base')",
   "language": "python",
   "name": "python3"
  },
  "language_info": {
   "codemirror_mode": {
    "name": "ipython",
    "version": 3
   },
   "file_extension": ".py",
   "mimetype": "text/x-python",
   "name": "python",
   "nbconvert_exporter": "python",
   "pygments_lexer": "ipython3",
   "version": "3.8.8"
  },
  "orig_nbformat": 4,
  "vscode": {
   "interpreter": {
    "hash": "7679c2132d3f6ce38c9df14d554b39c06862b36a4e6689c81f9ae15bd0911d7d"
   }
  }
 },
 "nbformat": 4,
 "nbformat_minor": 2
}
