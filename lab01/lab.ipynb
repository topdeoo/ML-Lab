{
 "cells": [
  {
   "cell_type": "markdown",
   "metadata": {},
   "source": [
    "# Linear Regression\n",
    "\n",
    "首先把需要用到的包都引入"
   ]
  },
  {
   "cell_type": "code",
   "execution_count": 10,
   "metadata": {},
   "outputs": [],
   "source": [
    "import pandas as pd\n",
    "import numpy as np\n",
    "import matplotlib.pyplot as plt\n",
    "import seaborn as sns\n",
    "from sklearn.model_selection import train_test_split\n",
    "from sklearn.preprocessing import LabelEncoder\n",
    "%matplotlib inline"
   ]
  },
  {
   "cell_type": "code",
   "execution_count": 11,
   "metadata": {},
   "outputs": [],
   "source": [
    "df = pd.read_csv('Data.csv')\n",
    "Y = 0.01 * df['MEDV'].to_numpy()\n",
    "X = 0.01 * df.drop(['MEDV'], axis=1).to_numpy()\n",
    "\n",
    "train_X, test_X, train_Y, test_Y = train_test_split(X, Y, test_size=0.3)"
   ]
  },
  {
   "cell_type": "markdown",
   "metadata": {},
   "source": [
    "## 实验主体：\n",
    "\n",
    "实现一个 `LinearRegression` 类，具体要求见 `README.md`"
   ]
  },
  {
   "cell_type": "code",
   "execution_count": 12,
   "metadata": {},
   "outputs": [],
   "source": [
    "\"\"\"\n",
    "start Lab 01\n",
    "\"\"\"\n",
    "\n",
    "import random\n",
    "\n",
    "\n",
    "def mse(x, y):\n",
    "    return (x - y) ** 2 / 2\n",
    "\n",
    "\n",
    "class LinearRegression(object):\n",
    "    def __init__(self, X, alpha=0.001, epoch=10000, optimizer='basic'):\n",
    "        self.w = np.zeros(X.shape[1])\n",
    "        self.b = 0\n",
    "        self.alpha = alpha\n",
    "        self.epoch = epoch\n",
    "        self.loss = []\n",
    "        self.optimizer = optimizer\n",
    "\n",
    "    def calc_loss(self, X, Y):\n",
    "        sum = 0\n",
    "        frac = Y.shape[0]\n",
    "        for i in range(Y.shape[0]):\n",
    "            sum += mse(np.dot(self.w, X[i]) + self.b, Y[i]) / frac\n",
    "        self.loss.append(sum)\n",
    "\n",
    "    def fit_basic(self, X, Y):\n",
    "        frac = Y.shape[0]\n",
    "        for _ in range(self.epoch):\n",
    "            self.calc_loss(X, Y)\n",
    "            temp_w = np.zeros(X.shape[1])\n",
    "            temp_b = 0\n",
    "            for i in range(Y.shape[0]):\n",
    "                temp_w += self.alpha * \\\n",
    "                    (self.w.T @ X[i] + self.b - Y[i]) * X[i] / frac\n",
    "                temp_b += self.alpha * (self.w.T @ X[i] + self.b - Y[i]) / frac\n",
    "            self.w = self.w - temp_w\n",
    "            self.b = self.b - temp_b\n",
    "\n",
    "    def fit_adam(self, X, Y):\n",
    "        frac = Y.shape[0]\n",
    "        m, v = 0, 0\n",
    "        prev = np.ones(X.shape[1])\n",
    "        t = 0\n",
    "        while np.linalg.norm(self.w - prev) >= 1e-8 and t <= self.epoch:\n",
    "            self.calc_loss(X, Y)\n",
    "            t = t + 1\n",
    "            prev = self.w\n",
    "            i = random.randint(0, frac - 1)\n",
    "            g = np.array([(self.w.T @ X[i] + self.b - Y[i]) *\n",
    "                         X[i], (self.w.T @ X[i] + self.b - Y[i])])\n",
    "            m = self.beta_1 * m + (1 - self.beta_1) * g\n",
    "            v = self.beta_2 * v + (1 - self.beta_2) * \\\n",
    "                (g[0].T @ g[0] + g[1] * g[1])\n",
    "            temp_m = m / (1 - pow(self.beta_1, t))\n",
    "            temp_v = v / (1 - pow(self.beta_2, t))\n",
    "            self.w = self.w - self.alpha * \\\n",
    "                temp_m[0] / (np.sqrt(temp_v) + self.eps)\n",
    "            self.b = self.b - self.alpha * \\\n",
    "                temp_m[1] / (np.sqrt(temp_v) + self.eps)\n",
    "            self.learn_rate.append(self.alpha / (np.sqrt(temp_v) + self.eps))\n",
    "\n",
    "    def fit(self, X, Y):\n",
    "        if self.optimizer == 'basic':\n",
    "            self.fit_basic(X, Y)\n",
    "        else:\n",
    "            self.beta_1 = 0.9\n",
    "            self.beta_2 = 0.999\n",
    "            self.eps = 1e-8\n",
    "            self.learn_rate = []\n",
    "            self.fit_adam(X, Y)\n",
    "\n",
    "    def predict(self, X):\n",
    "        y = []\n",
    "        for i in range(X.shape[0]):\n",
    "            y.append(self.w.T @ X[i] + self.b)\n",
    "        return np.array(y)\n",
    "\n"
   ]
  },
  {
   "cell_type": "markdown",
   "metadata": {},
   "source": [
    "## 测试\n",
    "\n",
    "当然你可以更改这部分代码，写自己的测试程序，但务必完成实验中的要求\n",
    "\n",
    "结果展示：\n",
    "\n",
    "1. 朴素的梯度下降\n",
    "\n",
    "2. `Adam` 算法，这里我记录了其学习率的变化"
   ]
  },
  {
   "cell_type": "code",
   "execution_count": 13,
   "metadata": {},
   "outputs": [],
   "source": [
    "def R_2(y_pred, y_true):\n",
    "    mean = np.mean(y_true)\n",
    "    sst = np.sum((y_pred - mean)**2)\n",
    "    ssr = np.sum((y_true - mean)**2)\n",
    "    return sst / ssr\n",
    "\n",
    "\n",
    "lr = LinearRegression(train_X)\n",
    "lr.fit(train_X, train_Y)\n"
   ]
  },
  {
   "cell_type": "markdown",
   "metadata": {},
   "source": [
    "朴素梯度下降"
   ]
  },
  {
   "cell_type": "code",
   "execution_count": 14,
   "metadata": {},
   "outputs": [
    {
     "data": {
      "image/png": "[encoded data removed]",
      "text/plain": [
       "<Figure size 432x288 with 1 Axes>"
      ]
     },
     "metadata": {
      "needs_background": "light"
     },
     "output_type": "display_data"
    },
    {
     "name": "stdout",
     "output_type": "stream",
     "text": [
      "MSE : 0.00\n",
      "R^2 in train : 31.33\n",
      "R^2 in test: 40.47\n"
     ]
    }
   ],
   "source": [
    "x = [i for i in range(lr.epoch)]\n",
    "\n",
    "plt.plot(x, lr.loss)\n",
    "plt.show()\n",
    "\n",
    "y_pred = lr.predict(test_X)\n",
    "error = 0\n",
    "for i in range(y_pred.shape[0]):\n",
    "    error += mse(y_pred[i], test_Y[i]) / y_pred.shape[0]\n",
    "print(\"MSE : %.2f\" % error)\n",
    "print(\"R^2 in train : %.2f\" % (R_2(lr.predict(train_X), train_Y) * 100))\n",
    "print(\"R^2 in test: %.2f\" % (R_2(y_pred, test_Y) * 100))\n"
   ]
  },
  {
   "cell_type": "markdown",
   "metadata": {},
   "source": [
    "使用 `Adam` 算法"
   ]
  },
  {
   "cell_type": "code",
   "execution_count": 15,
   "metadata": {},
   "outputs": [
    {
     "name": "stderr",
     "output_type": "stream",
     "text": [
      "<ipython-input-12-ac407d3fcc0c>:51: VisibleDeprecationWarning: Creating an ndarray from ragged nested sequences (which is a list-or-tuple of lists-or-tuples-or ndarrays with different lengths or shapes) is deprecated. If you meant to do this, you must specify 'dtype=object' when creating the ndarray.\n",
      "  g = np.array([(self.w.T @ X[i] + self.b - Y[i]) *\n"
     ]
    }
   ],
   "source": [
    "lr = LinearRegression(train_X, optimizer='adam', epoch=100000)\n",
    "lr.fit(train_X, train_Y)"
   ]
  },
  {
   "cell_type": "code",
   "execution_count": 16,
   "metadata": {},
   "outputs": [
    {
     "data": {
      "image/png": "[encoded data removed]",
      "text/plain": [
       "<Figure size 432x288 with 1 Axes>"
      ]
     },
     "metadata": {
      "needs_background": "light"
     },
     "output_type": "display_data"
    },
    {
     "data": {
      "image/png": "[encoded data removed]",
      "text/plain": [
       "<Figure size 432x288 with 1 Axes>"
      ]
     },
     "metadata": {
      "needs_background": "light"
     },
     "output_type": "display_data"
    },
    {
     "name": "stdout",
     "output_type": "stream",
     "text": [
      "MSE : 0.00\n",
      "R^2 in train : 33.01\n",
      "R^2 in test: 37.23\n"
     ]
    }
   ],
   "source": [
    "x = [i for i in range(lr.epoch + 1)]\n",
    "\n",
    "plt.plot(x, lr.loss)\n",
    "plt.show()\n",
    "\n",
    "plt.plot(x, lr.learn_rate)\n",
    "plt.show()\n",
    "\n",
    "y_pred = lr.predict(test_X)\n",
    "error = 0\n",
    "for i in range(y_pred.shape[0]):\n",
    "    error += mse(y_pred[i], test_Y[i]) / y_pred.shape[0]\n",
    "print(\"MSE : %.2f\" % error)\n",
    "print(\"R^2 in train : %.2f\" % (R_2(lr.predict(train_X), train_Y) * 100))\n",
    "print(\"R^2 in test: %.2f\" % (R_2(y_pred, test_Y) * 100))"
   ]
  }
 ],
 "metadata": {
  "kernelspec": {
   "display_name": "Python 3.8.8 ('base')",
   "language": "python",
   "name": "python3"
  },
  "language_info": {
   "codemirror_mode": {
    "name": "ipython",
    "version": 3
   },
   "file_extension": ".py",
   "mimetype": "text/x-python",
   "name": "python",
   "nbconvert_exporter": "python",
   "pygments_lexer": "ipython3",
   "version": "3.8.8"
  },
  "orig_nbformat": 4,
  "vscode": {
   "interpreter": {
    "hash": "7679c2132d3f6ce38c9df14d554b39c06862b36a4e6689c81f9ae15bd0911d7d"
   }
  }
 },
 "nbformat": 4,
 "nbformat_minor": 2
}
